{
 "cells": [
  {
   "cell_type": "code",
   "execution_count": 1,
   "metadata": {},
   "outputs": [],
   "source": [
    "import colorsys\n",
    "import glob\n",
    "from IPython import display\n",
    "from math import *\n",
    "import numpy as np\n",
    "import matplotlib.pyplot as plt\n",
    "import pandas as pd\n",
    "from PIL import Image\n",
    "import time\n",
    "from scipy import stats\n",
    "\n",
    "import torch\n",
    "import torch.nn as nn\n",
    "import torch.nn.functional as F\n",
    "\n",
    "%matplotlib inline"
   ]
  },
  {
   "cell_type": "code",
   "execution_count": null,
   "metadata": {},
   "outputs": [],
   "source": [
    "PARTICIPANT_FILE = \"output/part_1.txt\""
   ]
  },
  {
   "cell_type": "code",
   "execution_count": 2,
   "metadata": {},
   "outputs": [
    {
     "name": "stdout",
     "output_type": "stream",
     "text": [
      "(402, 14)\n",
      "(322, 14) (80, 14)\n"
     ]
    }
   ],
   "source": [
    "data = pd.read_csv(PARTICIPANT_FILE, header=None).to_numpy()\n",
    "print(data.shape)\n",
    "\n",
    "no_data = round(len(data)*0.8)\n",
    "train_set = data[:no_data]\n",
    "test_set = data[no_data:]\n",
    "print(train_set.shape, test_set.shape)"
   ]
  },
  {
   "cell_type": "code",
   "execution_count": 3,
   "metadata": {},
   "outputs": [],
   "source": [
    "anchors = train_set[:, :3]\n",
    "bgcolors = train_set[:, 9:12]\n",
    "\n",
    "positive, negative = [], []\n",
    "for i in range(train_set.shape[0]):\n",
    "    if data[i, 13] == 0:\n",
    "        positive.append(train_set[i, 3:6])\n",
    "        negative.append(train_set[i, 6:9])\n",
    "    else:\n",
    "        positive.append(train_set[i, 6:9])\n",
    "        negative.append(train_set[i, 3:6])\n",
    "\n",
    "positive = np.array(positive)\n",
    "negative = np.array(negative)"
   ]
  },
  {
   "cell_type": "code",
   "execution_count": 4,
   "metadata": {},
   "outputs": [],
   "source": [
    "anchors2 = test_set[:,:3]\n",
    "bgcolors2 = test_set[:,9:12]\n",
    "\n",
    "positive2 = []\n",
    "negative2 = []\n",
    "for i in range(test_set.shape[0]):\n",
    "    if test_set[i, 13]==0:\n",
    "        positive2.append(test_set[i, 3:6])\n",
    "        negative2.append(test_set[i, 6:9])\n",
    "    else:\n",
    "        positive2.append(test_set[i, 6:9])\n",
    "        negative2.append(test_set[i, 3:6])\n",
    "\n",
    "positive2 = np.array(positive2)\n",
    "negative2 = np.array(negative2)"
   ]
  },
  {
   "cell_type": "code",
   "execution_count": 5,
   "metadata": {},
   "outputs": [],
   "source": [
    "class Net(nn.Module):\n",
    "    def __init__(self):\n",
    "        super().__init__()\n",
    "        self.l1 = nn.Linear(3, 8)\n",
    "        self.l2 = nn.Linear(8, 8)\n",
    "        self.l3 = nn.Linear(8, 8)\n",
    "        self.l4 = nn.Linear(8, 2)\n",
    "        \n",
    "    def forward(self, x):\n",
    "        z = self.l1(x)\n",
    "        z = torch.cat([torch.sin(z[:, :4]), F.relu(z[:, 4:])],1)\n",
    "        z = self.l2(z)\n",
    "        z = torch.cat([torch.sin(z[:, :4]), F.relu(z[:, 4:])],1)\n",
    "        z = F.relu(self.l3(z))\n",
    "        z = torch.tanh(self.l4(z))\n",
    "        return z\n",
    "\n",
    "# model = Net()\n",
    "# model.forward(torch.rand([1, 6]), torch.rand([1, 3]))"
   ]
  },
  {
   "cell_type": "markdown",
   "metadata": {},
   "source": [
    "https://towardsdatascience.com/triplet-loss-advanced-intro-49a07b7d8905"
   ]
  },
  {
   "cell_type": "markdown",
   "metadata": {},
   "source": [
    "Triplet Loss encourages that dissimilar pairs be distant from any similar pairs by at least a certain margin value. Mathematically, the loss value can be calculated as:\n",
    "\n",
    "L = max(d(a, p) - d(a, n) + m, 0)\n",
    "\n",
    "where:\n",
    "\n",
    "- p, i.e., positive, is a sample that has the same label as a, i.e., anchor,\n",
    "- n, i.e., negative, is another sample that has a label different from a,\n",
    "- d is a function to measure the distance between these three samples,\n",
    "- and m is a margin value to keep negative samples far apart.\n",
    "\n",
    "Good e.g.:\n",
    "- d(a, p) = 3\n",
    "- d(a, p) = 5\n",
    "- m = 1\n",
    "- L = -2 -> 0\n",
    "\n",
    "Bad e.g.:\n",
    "- d(a, p) = 4.6\n",
    "- d(a, p) = 4.7\n",
    "- m = 1\n",
    "- L = 0.9 -> 0.9\n",
    "\n",
    "The paper uses Euclidean distance, but it is equally valid to use any other distance metric, e.g., cosine distance.\n",
    "\n",
    "Additionally, Triplet Loss is less greedy. Unlike Contrastive Loss, it is already satisfied when different samples are easily distinguishable from similar ones. It does not change the distances in a positive cluster if there is no interference from negative examples."
   ]
  },
  {
   "cell_type": "code",
   "execution_count": null,
   "metadata": {},
   "outputs": [],
   "source": [
    "model = Net()\n",
    "optim = torch.optim.Adam(model.parameters(), lr=1e-2)\n",
    "loss_func = nn.TripletMarginLoss(0.2)\n",
    "\n",
    "x1 = torch.FloatTensor(anchors) / 256.0\n",
    "x2 = torch.FloatTensor(positive) / 256.0\n",
    "x3 = torch.FloatTensor(negative) / 256.0\n",
    "\n",
    "x1t = torch.FloatTensor(anchors2) / 256.0\n",
    "x2t = torch.FloatTensor(positive2) / 256.0\n",
    "x3t = torch.FloatTensor(negative2) / 256.0\n",
    "\n",
    "x1c = x1.cpu().detach().numpy()\n",
    "\n",
    "tr_err, ts_err = [], []\n",
    "for epoch in range(100000):\n",
    "    # Train\n",
    "    model.train()\n",
    "    z1 = model.forward(x1+torch.randn_like(x1)*0.1)\n",
    "    z2 = model.forward(x2+torch.randn_like(x1)*0.1)\n",
    "    z3 = model.forward(x3+torch.randn_like(x1)*0.1)\n",
    "    \n",
    "    loss = loss_func(z1, z2, z3)\n",
    "    tr_err.append(loss.cpu().detach().item())\n",
    "    \n",
    "    optim.zero_grad(set_to_none=True)\n",
    "    for p in model.parameters():\n",
    "        loss += 0.01*torch.mean(p**2)\n",
    "    loss.backward()    \n",
    "    optim.step()\n",
    "    \n",
    "    # Validation\n",
    "    model.eval()\n",
    "    with torch.no_grad():\n",
    "        z1t = model.forward(x1t)\n",
    "        z2t = model.forward(x2t)\n",
    "        z3t = model.forward(x3t)\n",
    "\n",
    "        loss = loss_func(z1t, z2t, z3t)\n",
    "        ts_err.append(loss.cpu().detach().item())\n",
    "    \n",
    "    if epoch % 100 == 0:\n",
    "        plt.clf()\n",
    "        fig, axs = plt.subplots(1, 2, figsize=(10, 5))\n",
    "\n",
    "        axs[0].plot(tr_err, label='Train')\n",
    "        axs[0].plot(ts_err, label='Test')\n",
    "        axs[0].legend()\n",
    "        \n",
    "        z1c = z1.cpu().detach().numpy()\n",
    "        axs[1].scatter(z1c[:, 0], z1c[:, 1], c=x1c)\n",
    "\n",
    "        display.clear_output(wait=True)\n",
    "        display.display(plt.gcf())\n",
    "        time.sleep(0.01)"
   ]
  },
  {
   "cell_type": "markdown",
   "metadata": {},
   "source": [
    "### Hue"
   ]
  },
  {
   "cell_type": "code",
   "execution_count": 7,
   "metadata": {},
   "outputs": [
    {
     "name": "stdout",
     "output_type": "stream",
     "text": [
      "torch.Size([100, 3])\n"
     ]
    }
   ],
   "source": [
    "curve, hue = [], []\n",
    "for i in range(0, 100, 1):\n",
    "    (r, g, b) = colorsys.hsv_to_rgb(i/100, 1.0, 1.0)\n",
    "    color = [r, g, b]\n",
    "    curve.append(color)\n",
    "    hue.append(i/100)\n",
    "curve = torch.FloatTensor(curve)\n",
    "print(curve.shape)"
   ]
  },
  {
   "cell_type": "code",
   "execution_count": 8,
   "metadata": {},
   "outputs": [],
   "source": [
    "embed = model.forward(torch.FloatTensor(curve)).cpu().detach().numpy()"
   ]
  },
  {
   "cell_type": "code",
   "execution_count": 9,
   "metadata": {},
   "outputs": [
    {
     "data": {
      "image/png": "[encoded data removed]",
      "text/plain": [
       "<Figure size 432x288 with 1 Axes>"
      ]
     },
     "metadata": {
      "needs_background": "light"
     },
     "output_type": "display_data"
    }
   ],
   "source": [
    "plt.scatter(embed[:,0], embed[:,1], c=curve, edgecolors='r', s=80)\n",
    "plt.show()"
   ]
  },
  {
   "cell_type": "code",
   "execution_count": 10,
   "metadata": {},
   "outputs": [
    {
     "data": {
      "text/plain": [
       "(-0.40072570913472527, 3.6056782646814424e-05)"
      ]
     },
     "execution_count": 10,
     "metadata": {},
     "output_type": "execute_result"
    }
   ],
   "source": [
    "stats.pearsonr(embed[:, 0], hue)"
   ]
  },
  {
   "cell_type": "code",
   "execution_count": 11,
   "metadata": {},
   "outputs": [
    {
     "data": {
      "text/plain": [
       "(-0.4541067269774295, 2.0805710187481018e-06)"
      ]
     },
     "execution_count": 11,
     "metadata": {},
     "output_type": "execute_result"
    }
   ],
   "source": [
    "stats.pearsonr(embed[:, 1], hue)"
   ]
  },
  {
   "cell_type": "code",
   "execution_count": null,
   "metadata": {},
   "outputs": [],
   "source": []
  },
  {
   "cell_type": "code",
   "execution_count": null,
   "metadata": {},
   "outputs": [],
   "source": []
  }
 ],
 "metadata": {
  "kernelspec": {
   "display_name": "Python 3",
   "language": "python",
   "name": "python3"
  },
  "language_info": {
   "codemirror_mode": {
    "name": "ipython",
    "version": 3
   },
   "file_extension": ".py",
   "mimetype": "text/x-python",
   "name": "python",
   "nbconvert_exporter": "python",
   "pygments_lexer": "ipython3",
   "version": "3.8.8"
  },
  "varInspector": {
   "cols": {
    "lenName": 16,
    "lenType": 16,
    "lenVar": 40
   },
   "kernels_config": {
    "python": {
     "delete_cmd_postfix": "",
     "delete_cmd_prefix": "del ",
     "library": "var_list.py",
     "varRefreshCmd": "print(var_dic_list())"
    },
    "r": {
     "delete_cmd_postfix": ") ",
     "delete_cmd_prefix": "rm(",
     "library": "var_list.r",
     "varRefreshCmd": "cat(var_dic_list()) "
    }
   },
   "types_to_exclude": [
    "module",
    "function",
    "builtin_function_or_method",
    "instance",
    "_Feature"
   ],
   "window_display": false
  }
 },
 "nbformat": 4,
 "nbformat_minor": 4
}
