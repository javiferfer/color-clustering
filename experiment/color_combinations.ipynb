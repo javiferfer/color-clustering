{
 "cells": [
  {
   "cell_type": "code",
   "execution_count": 23,
   "metadata": {},
   "outputs": [],
   "source": [
    "import numpy as np\n",
    "import pandas as pd\n",
    "import random"
   ]
  },
  {
   "cell_type": "code",
   "execution_count": 14,
   "metadata": {},
   "outputs": [],
   "source": [
    "df_img_rgb = pd.read_csv('input/munsell_rgb.csv') * 255"
   ]
  },
  {
   "cell_type": "code",
   "execution_count": 30,
   "metadata": {},
   "outputs": [
    {
     "name": "stdout",
     "output_type": "stream",
     "text": [
      "5410240\n"
     ]
    }
   ],
   "source": [
    "comb_s = []\n",
    "for i in range(len(df_img_rgb)):\n",
    "    for j in range(i+1, len(df_img_rgb)):\n",
    "        for k in range(j+1, len(df_img_rgb)):\n",
    "            comb = [i, j, k]\n",
    "            random.shuffle(comb)\n",
    "            comb_s.append(comb)\n",
    "random.shuffle(comb_s)\n",
    "print(len(comb_s))"
   ]
  },
  {
   "cell_type": "code",
   "execution_count": 33,
   "metadata": {},
   "outputs": [],
   "source": [
    "comb_selected_s = []\n",
    "for comb in comb_s:\n",
    "    comb_pos = []\n",
    "    for val in comb:\n",
    "        comb_pos.append([val % 8, val // 8])\n",
    "    comb_pos = np.array(comb_pos)\n",
    "    \n",
    "    ok = True\n",
    "    row_sorted = sorted(comb_pos[:, 0])\n",
    "    column_sorted = sorted(comb_pos[:, 1])\n",
    "    \n",
    "    if (row_sorted[1] - row_sorted[0]) > 5:\n",
    "        ok = False\n",
    "    elif (row_sorted[2] - row_sorted[1]) > 5:\n",
    "        ok = False\n",
    "    elif (column_sorted[1] - column_sorted[0]) > 5:\n",
    "        ok = False\n",
    "    elif (column_sorted[2] - column_sorted[1]) > 5:\n",
    "        ok = False\n",
    "\n",
    "    if ok == True:\n",
    "        comb_selected_s.append(comb)"
   ]
  },
  {
   "cell_type": "code",
   "execution_count": 34,
   "metadata": {},
   "outputs": [
    {
     "data": {
      "text/plain": [
       "490300"
      ]
     },
     "execution_count": 34,
     "metadata": {},
     "output_type": "execute_result"
    }
   ],
   "source": [
    "len(comb_selected_s)"
   ]
  },
  {
   "cell_type": "code",
   "execution_count": 38,
   "metadata": {},
   "outputs": [],
   "source": [
    "df = pd.DataFrame(comb_selected_s, columns=['first_img', 'secong_img', 'third_img'])\n",
    "df.to_csv('input/combinations.csv', index=False)"
   ]
  },
  {
   "cell_type": "code",
   "execution_count": null,
   "metadata": {},
   "outputs": [],
   "source": []
  }
 ],
 "metadata": {
  "kernelspec": {
   "display_name": "Python 3",
   "language": "python",
   "name": "python3"
  },
  "language_info": {
   "codemirror_mode": {
    "name": "ipython",
    "version": 3
   },
   "file_extension": ".py",
   "mimetype": "text/x-python",
   "name": "python",
   "nbconvert_exporter": "python",
   "pygments_lexer": "ipython3",
   "version": "3.8.8"
  },
  "varInspector": {
   "cols": {
    "lenName": 16,
    "lenType": 16,
    "lenVar": 40
   },
   "kernels_config": {
    "python": {
     "delete_cmd_postfix": "",
     "delete_cmd_prefix": "del ",
     "library": "var_list.py",
     "varRefreshCmd": "print(var_dic_list())"
    },
    "r": {
     "delete_cmd_postfix": ") ",
     "delete_cmd_prefix": "rm(",
     "library": "var_list.r",
     "varRefreshCmd": "cat(var_dic_list()) "
    }
   },
   "types_to_exclude": [
    "module",
    "function",
    "builtin_function_or_method",
    "instance",
    "_Feature"
   ],
   "window_display": false
  }
 },
 "nbformat": 4,
 "nbformat_minor": 4
}
