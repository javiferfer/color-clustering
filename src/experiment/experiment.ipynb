{
 "cells": [
  {
   "cell_type": "code",
   "execution_count": 1,
   "metadata": {},
   "outputs": [
    {
     "name": "stdout",
     "output_type": "stream",
     "text": [
      "pygame 2.1.2 (SDL 2.0.18, Python 3.8.8)\n",
      "Hello from the pygame community. https://www.pygame.org/contribute.html\n"
     ]
    }
   ],
   "source": [
    "import glob\n",
    "import numpy as np\n",
    "from os.path import exists\n",
    "import pandas as pd\n",
    "from PIL import Image\n",
    "import pygame\n",
    "import random\n",
    "import time\n",
    "import scipy\n",
    "import sys"
   ]
  },
  {
   "cell_type": "code",
   "execution_count": 2,
   "metadata": {},
   "outputs": [],
   "source": [
    "OUTPUT_FILENAME = 'output/participant_test_3.txt'\n",
    "NO_TRIALS = 1000"
   ]
  },
  {
   "cell_type": "code",
   "execution_count": 3,
   "metadata": {},
   "outputs": [],
   "source": [
    "df_img_rgb = pd.read_csv('input/munsell_rgb.csv') * 255"
   ]
  },
  {
   "cell_type": "code",
   "execution_count": 4,
   "metadata": {},
   "outputs": [],
   "source": [
    "assert len(df_img_rgb[df_img_rgb['red'] < 0]) == 0\n",
    "assert len(df_img_rgb[df_img_rgb['green'] < 0]) == 0\n",
    "assert len(df_img_rgb[df_img_rgb['blue'] < 0]) == 0\n",
    "\n",
    "assert len(df_img_rgb[df_img_rgb['red'] > 255]) == 0\n",
    "assert len(df_img_rgb[df_img_rgb['green'] > 255]) == 0\n",
    "assert len(df_img_rgb[df_img_rgb['blue'] > 255]) == 0"
   ]
  },
  {
   "cell_type": "code",
   "execution_count": 5,
   "metadata": {
    "scrolled": false
   },
   "outputs": [
    {
     "name": "stdout",
     "output_type": "stream",
     "text": [
      "5410240.0\n"
     ]
    }
   ],
   "source": [
    "print(320*319*318/(3*2))"
   ]
  },
  {
   "cell_type": "code",
   "execution_count": 6,
   "metadata": {},
   "outputs": [],
   "source": [
    "comb_s = pd.read_csv('input/combinations.csv').values.tolist()"
   ]
  },
  {
   "cell_type": "code",
   "execution_count": 7,
   "metadata": {},
   "outputs": [],
   "source": [
    "def load_trial(trial_no):\n",
    "    global color1, color2, color3, im, bgcolor\n",
    "    \n",
    "    comb = comb_s[trial_no]\n",
    "    img_rgb_first_color = df_img_rgb.iloc[comb[0]].to_list()\n",
    "    img_rgb_second_color = df_img_rgb.iloc[comb[1]].to_list()\n",
    "    img_rgb_third_color = df_img_rgb.iloc[comb[2]].to_list()\n",
    "\n",
    "    bgcolor = np.clip([256]*3, 0, 255).astype(np.uint8)\n",
    "    color1 = np.array(img_rgb_first_color).astype(np.uint8)\n",
    "    color2 = np.array(img_rgb_second_color).astype(np.uint8)\n",
    "    color3 = np.array(img_rgb_third_color).astype(np.uint8)\n",
    "    \n",
    "    im = np.zeros((RES, RES, 3)).astype(np.uint8) + bgcolor\n",
    "    im[RES//2-SWATCH//2:RES//2+SWATCH//2, 128:128+SWATCH] = color1\n",
    "    im[RES//4-SWATCH//2:RES//4+SWATCH//2, 512:512+SWATCH] = color2\n",
    "    im[3*RES//4-SWATCH//2:3*RES//4+SWATCH//2, 512:512+SWATCH] = color3"
   ]
  },
  {
   "cell_type": "code",
   "execution_count": 8,
   "metadata": {},
   "outputs": [],
   "source": [
    "RES = 1024\n",
    "SWATCH = 256\n",
    "\n",
    "file_exists = exists(OUTPUT_FILENAME)\n",
    "if file_exists is True:\n",
    "    print('Repeated file')\n",
    "    sys.exit()\n",
    "\n",
    "pygame.init()\n",
    "pygame.font.init()\n",
    "font = pygame.font.SysFont(\"Arial\", 36)\n",
    "screen = pygame.display.set_mode((RES, RES), 0, 24)\n",
    "    \n",
    "t0 = time.time()\n",
    "trial_counter = 0\n",
    "load_trial(trial_counter)\n",
    "trial_counter += 1\n",
    "\n",
    "done = False\n",
    "counter = 0\n",
    "while not done:\n",
    "    for event in pygame.event.get():\n",
    "        if event.type == pygame.KEYUP:\n",
    "            if event.key == pygame.K_q:\n",
    "                done = True\n",
    "        if event.type == pygame.MOUSEBUTTONDOWN:\n",
    "            mx = event.pos[0]\n",
    "            my = event.pos[1]\n",
    "            if event.button == 1:\n",
    "                t1 = time.time()\n",
    "                if my>=512 and my<=512+SWATCH:\n",
    "                    if mx>=RES//4-SWATCH//2 and mx<=RES//4+SWATCH//2:\n",
    "                        f = open(OUTPUT_FILENAME, \"a\")\n",
    "                        f.write(\"%d,%d,%d,%d,%d,%d,%d,%d,%d,%d,%d,%d,%.6g,%d\\n\" % \n",
    "                                (color1[0], color1[1], color1[2],\n",
    "                                 color2[0], color2[1], color2[2],\n",
    "                                 color3[0], color3[1], color3[2],\n",
    "                                 bgcolor[0], bgcolor[1], bgcolor[2],\n",
    "                                 t1-t0, 0))\n",
    "                        f.close()\n",
    "                        load_trial(trial_counter)\n",
    "                        trial_counter += 1\n",
    "                        t0 = t1\n",
    "                        \n",
    "                        if counter == NO_TRIALS:\n",
    "                            pygame.quit()\n",
    "                        else:\n",
    "                            counter += 1\n",
    "\n",
    "                    if mx>=3*RES//4-SWATCH//2 and mx<=3*RES//4+SWATCH//2:\n",
    "                        f = open(OUTPUT_FILENAME, \"a\")\n",
    "                        f.write(\"%d,%d,%d,%d,%d,%d,%d,%d,%d,%d,%d,%d,%.6g,%d\\n\" % \n",
    "                                (color1[0], color1[1], color1[2],\n",
    "                                 color2[0], color2[1], color2[2],\n",
    "                                 color3[0], color3[1], color3[2],\n",
    "                                 bgcolor[0], bgcolor[1], bgcolor[2],\n",
    "                                 t1-t0, 1))\n",
    "                        f.close()\n",
    "                        load_trial(trial_counter)\n",
    "                        trial_counter += 1\n",
    "                        t0 = t1\n",
    "\n",
    "                        if counter == NO_TRIALS:\n",
    "                            pygame.quit()\n",
    "                        else:\n",
    "                            counter += 1\n",
    "\n",
    "    s_image = pygame.pixelcopy.make_surface(im)\n",
    "    fontim = font.render(f'{counter+1} / 200', True, [0, 0, 0])\n",
    "\n",
    "    if counter + 1 < 10:\n",
    "        s_image.blit(fontim, (RES-130, 0))\n",
    "    elif counter + 1 < 100:\n",
    "        s_image.blit(fontim, (RES-150, 0))\n",
    "    else:\n",
    "        s_image.blit(fontim, (RES-170, 0))\n",
    "        \n",
    "    screen.blit(s_image, (0, 0))\n",
    "\n",
    "    pygame.display.update()   \n",
    "    time.sleep(0.001)\n",
    "                    \n",
    "pygame.quit()"
   ]
  },
  {
   "cell_type": "code",
   "execution_count": 9,
   "metadata": {},
   "outputs": [
    {
     "name": "stderr",
     "output_type": "stream",
     "text": [
      "No traceback available to show.\n"
     ]
    }
   ],
   "source": [
    "%tb"
   ]
  },
  {
   "cell_type": "code",
   "execution_count": null,
   "metadata": {},
   "outputs": [],
   "source": []
  }
 ],
 "metadata": {
  "kernelspec": {
   "display_name": "Python 3",
   "language": "python",
   "name": "python3"
  },
  "language_info": {
   "codemirror_mode": {
    "name": "ipython",
    "version": 3
   },
   "file_extension": ".py",
   "mimetype": "text/x-python",
   "name": "python",
   "nbconvert_exporter": "python",
   "pygments_lexer": "ipython3",
   "version": "3.8.8"
  },
  "varInspector": {
   "cols": {
    "lenName": 16,
    "lenType": 16,
    "lenVar": 40
   },
   "kernels_config": {
    "python": {
     "delete_cmd_postfix": "",
     "delete_cmd_prefix": "del ",
     "library": "var_list.py",
     "varRefreshCmd": "print(var_dic_list())"
    },
    "r": {
     "delete_cmd_postfix": ") ",
     "delete_cmd_prefix": "rm(",
     "library": "var_list.r",
     "varRefreshCmd": "cat(var_dic_list()) "
    }
   },
   "types_to_exclude": [
    "module",
    "function",
    "builtin_function_or_method",
    "instance",
    "_Feature"
   ],
   "window_display": false
  }
 },
 "nbformat": 4,
 "nbformat_minor": 4
}
